{
 "cells": [
  {
   "cell_type": "code",
   "execution_count": null,
   "metadata": {},
   "outputs": [],
   "source": [
    "import pandas as pd\n",
    "import numpy as np\n",
    "import matplotlib.pyplot as plt\n",
    "import seaborn as sns\n",
    "import os\n"
   ]
  },
  {
   "cell_type": "code",
   "execution_count": null,
   "metadata": {},
   "outputs": [],
   "source": [
    "# load data\n",
    "df = pd.read_csv(\"../data/raw/raw_immoweb_data0403.csv\")"
   ]
  },
  {
   "cell_type": "code",
   "execution_count": null,
   "metadata": {},
   "outputs": [],
   "source": [
    "# we don't need rows with missing key information\n",
    "df = df.dropna(subset=['price_main',\"surface\",'region'])\n",
    "df.shape"
   ]
  },
  {
   "cell_type": "code",
   "execution_count": null,
   "metadata": {},
   "outputs": [],
   "source": [
    "# we are in belgium btw\n",
    "df = df[(df['latitude'] >= 49.5) & (df['latitude'] <= 51.5) &\n",
    "                 (df['longitude'] >= 2.5) & (df['longitude'] <= 6.4)]"
   ]
  },
  {
   "cell_type": "code",
   "execution_count": null,
   "metadata": {},
   "outputs": [],
   "source": [
    "# let's check for missing values\n",
    "missing = df.isna().sum()\n",
    "df.isna().sum()[missing > 0].sort_values()"
   ]
  },
  {
   "cell_type": "code",
   "execution_count": null,
   "metadata": {},
   "outputs": [],
   "source": [
    "# lets add a some useful columns\n",
    "# add price per square meter\n",
    "df['price_sqm'] = df.price_main/df.surface\n",
    "# add url to easy check the lot page\n",
    "df['url'] = df['id'].apply(lambda x: f\"https://www.immoweb.be/en/classified/{x}\")\n",
    "# df.url.head()"
   ]
  },
  {
   "cell_type": "code",
   "execution_count": null,
   "metadata": {},
   "outputs": [],
   "source": [
    "df.columns"
   ]
  },
  {
   "cell_type": "code",
   "execution_count": null,
   "metadata": {},
   "outputs": [],
   "source": [
    "\n",
    "df.describe()"
   ]
  },
  {
   "cell_type": "code",
   "execution_count": null,
   "metadata": {},
   "outputs": [],
   "source": [
    "# let's get rid of the outliers. \n",
    "# We will use the IQR method (very liberal way 3 and 9 instead of 1.5 and 3.0)\n",
    "# because we want to keep as much data as possible\n",
    "# and the distribution of the data is not normal (as we can see in the plots below)\n",
    "def remove_outliers(df, column_name):\n",
    "    Q1 = df[column_name].quantile(0.25)\n",
    "    Q3 = df[column_name].quantile(0.75)\n",
    "    IQR = Q3 - Q1\n",
    "    lower_bound = Q1 - 3.0 * IQR\n",
    "    upper_bound = Q3 + 9.0 * IQR\n",
    "    # lower_bound = Q1 - 1.5 * IQR\n",
    "    # upper_bound = Q3 + 1.5 * IQR\n",
    "    filtered_df = df[(df[column_name] >= lower_bound) & (df[column_name] <= upper_bound)]\n",
    "    \n",
    "    # count removed records\n",
    "    total_records = len(df)\n",
    "    filtered_records = len(filtered_df)\n",
    "    removed_records = total_records - filtered_records\n",
    "    removed_percentage = (removed_records / total_records) * 100\n",
    "    \n",
    "    print(f\"{column_name} removed: {removed_records} из {total_records} ({removed_percentage:.2f}%)\")\n",
    "    \n",
    "    return filtered_df\n",
    "    # return df[(df[column_name] >= lower_bound) & (df[column_name] <= upper_bound)]\n",
    "for column in ['price_sqm', 'surface', 'price_main']:\n",
    "# for column in [ 'surface', 'price_main']:\n",
    "    df = remove_outliers(df, column)"
   ]
  },
  {
   "cell_type": "code",
   "execution_count": null,
   "metadata": {},
   "outputs": [],
   "source": [
    "sns.violinplot(x='subtype', y='surface', data=df)"
   ]
  },
  {
   "cell_type": "code",
   "execution_count": null,
   "metadata": {},
   "outputs": [],
   "source": [
    "\n",
    "sns.set_theme(style=\"ticks\")\n",
    "g = sns.jointplot(data=df, x=\"surface\", y=\"price_main\", kind=\"kde\", hue=\"type\")\n",
    "g.set_axis_labels(\"Surface sqm\", \"Price €\")\n"
   ]
  },
  {
   "cell_type": "code",
   "execution_count": null,
   "metadata": {},
   "outputs": [],
   "source": [
    "sns.set_theme(style=\"ticks\")\n",
    "\n",
    "# Создание графика lmplot с разделением по 'type'0.70.70.70.70.70.70.70.7\n",
    "g = sns.lmplot(data=df, x=\"surface\", y=\"price_main\", hue=\"type\", aspect=0.7, height=5)\n",
    "\n",
    "# Установка заголовков осей\n",
    "g.set_axis_labels(\"Surface sqm\", \"Price €\")\n",
    "g.add_legend(title=\"Type\")"
   ]
  },
  {
   "cell_type": "code",
   "execution_count": null,
   "metadata": {},
   "outputs": [],
   "source": [
    "g = sns.jointplot(data=df, x=\"surface\", y=\"price_main\", hue=\"type\", color=\"#4CB391\")"
   ]
  },
  {
   "cell_type": "code",
   "execution_count": null,
   "metadata": {},
   "outputs": [],
   "source": [
    "g = sns.jointplot(data=df, x=\"surface\", y=\"price_sqm\", hue=\"type\", color=\"#4CB391\")"
   ]
  },
  {
   "cell_type": "code",
   "execution_count": null,
   "metadata": {},
   "outputs": [],
   "source": [
    "# df = df[(df['latitude'] >= 49.5) & (df['latitude'] <= 51.5) &\n",
    "#                  (df['longitude'] >= 2.5) & (df['longitude'] <= 6.4)]\n",
    "df_geo = df[df.latitude.notna() & df.longitude.notna()]\n",
    "\n",
    "df_geo_houses = df_geo[df_geo.type == \"HOUSE\"]\n",
    "df_geo_apartments = df_geo[df_geo.type == \"APARTMENT\"]\n",
    "df_geo.shape"
   ]
  },
  {
   "cell_type": "code",
   "execution_count": null,
   "metadata": {},
   "outputs": [],
   "source": [
    "sns.jointplot(data=df_geo, x=\"longitude\", y=\"latitude\", kind=\"hex\", color=\"#4CB391\")"
   ]
  },
  {
   "cell_type": "code",
   "execution_count": null,
   "metadata": {},
   "outputs": [],
   "source": [
    "\n",
    "import folium\n",
    "#from folium.plugins import HeatMap\n",
    "map = folium.Map(location=[50.8503, 4.3517], zoom_start=12)\n",
    "heat_df = df_geo[['latitude', 'longitude','price_sqm']] \n",
    "for i, row in heat_df.iterrows():\n",
    "    price = row['price_sqm']\n",
    "    if price <= 4400:\n",
    "        color = 'orange'\n",
    "        folium.CircleMarker([row['latitude'], row['longitude']], radius=0.01, color=color, fill=True, fill_color=color,opacity=0.3).add_to(map)\n",
    "    # elif price <= 4000: color = 'orange'\n",
    "    # elif price <= 3000: color = 'yellow'\n",
    "    elif price > 4400:\n",
    "        color = 'red'\n",
    "        folium.CircleMarker([row['latitude'], row['longitude']], radius=0.01, color=color, fill=True, fill_color='blue').add_to(map)\n",
    "\n",
    "    # folium.CircleMarker([row['latitude'], row['longitude']], radius=0.01, color='red', fill=True, fill_color='blue').add_to(map)\n",
    "# for i in range(0, len(heat_df)):\n",
    "#     # folium.CircleMarker([heat_df.iloc[i]['latitude'], heat_df.iloc[i]['longitude']], radius=0.01, color='red', fill=True, fill_color='blue').add_to(map)\n",
    "#     price = heat_df.pric\n",
    "map"
   ]
  },
  {
   "cell_type": "code",
   "execution_count": null,
   "metadata": {},
   "outputs": [],
   "source": [
    "# map for houses\n",
    "import folium\n",
    "#from folium.plugins import HeatMap\n",
    "map = folium.Map(location=[50.8503, 4.3517], zoom_start=12)\n",
    "heat_df = df_geo_houses[['latitude', 'longitude','price_sqm']] \n",
    "for i, row in heat_df.iterrows():\n",
    "    price = row['price_sqm']\n",
    "    if price <= 4400:\n",
    "        color = 'orange'\n",
    "        folium.CircleMarker([row['latitude'], row['longitude']], radius=0.01, color=color, fill=True, fill_color=color,opacity=0.3).add_to(map)\n",
    "    # elif price <= 4000: color = 'orange'\n",
    "    # elif price <= 3000: color = 'yellow'\n",
    "    elif price > 4400:\n",
    "        color = 'red'\n",
    "        folium.CircleMarker([row['latitude'], row['longitude']], radius=0.01, color=color, fill=True, fill_color='blue').add_to(map)\n",
    "\n",
    "    # folium.CircleMarker([row['latitude'], row['longitude']], radius=0.01, color='red', fill=True, fill_color='blue').add_to(map)\n",
    "# for i in range(0, len(heat_df)):\n",
    "#     # folium.CircleMarker([heat_df.iloc[i]['latitude'], heat_df.iloc[i]['longitude']], radius=0.01, color='red', fill=True, fill_color='blue').add_to(map)\n",
    "#     price = heat_df.pric\n",
    "map"
   ]
  },
  {
   "cell_type": "code",
   "execution_count": null,
   "metadata": {},
   "outputs": [],
   "source": [
    "# map for apartments\n",
    "import folium\n",
    "#from folium.plugins import HeatMap\n",
    "map = folium.Map(location=[50.8503, 4.3517], zoom_start=12)\n",
    "heat_df = df_geo_apartments[['latitude', 'longitude','price_sqm']] \n",
    "for i, row in heat_df.iterrows():\n",
    "    price = row['price_sqm']\n",
    "    if price <= 4400:\n",
    "        color = 'orange'\n",
    "        folium.CircleMarker([row['latitude'], row['longitude']], radius=0.01, color=color, fill=True, fill_color=color,opacity=0.3).add_to(map)\n",
    "    # elif price <= 4000: color = 'orange'\n",
    "    # elif price <= 3000: color = 'yellow'\n",
    "    elif price > 4400:\n",
    "        color = 'red'\n",
    "        folium.CircleMarker([row['latitude'], row['longitude']], radius=0.01, color=color, fill=True, fill_color='blue').add_to(map)\n",
    "\n",
    "    # folium.CircleMarker([row['latitude'], row['longitude']], radius=0.01, color='red', fill=True, fill_color='blue').add_to(map)\n",
    "# for i in range(0, len(heat_df)):\n",
    "#     # folium.CircleMarker([heat_df.iloc[i]['latitude'], heat_df.iloc[i]['longitude']], radius=0.01, color='red', fill=True, fill_color='blue').add_to(map)\n",
    "#     price = heat_df.pric\n",
    "map"
   ]
  },
  {
   "cell_type": "code",
   "execution_count": null,
   "metadata": {},
   "outputs": [],
   "source": [
    "df_numbers = df.select_dtypes(include=['float64', 'int64'])\n",
    "correlation_matrix= df_numbers.corr().round(2)\n",
    "correlation_matrix"
   ]
  },
  {
   "cell_type": "code",
   "execution_count": null,
   "metadata": {},
   "outputs": [],
   "source": [
    "plt.figure(figsize = (10,8))\n",
    "sns.heatmap(correlation_matrix, cmap = 'viridis', vmin = -1, vmax = 1, center = 0)\n",
    "plt.show()"
   ]
  },
  {
   "cell_type": "code",
   "execution_count": null,
   "metadata": {},
   "outputs": [],
   "source": []
  },
  {
   "cell_type": "code",
   "execution_count": null,
   "metadata": {},
   "outputs": [],
   "source": [
    "df.condition.value_counts(dropna=False) \n",
    "df.floodZone.value_counts(dropna=False) "
   ]
  },
  {
   "cell_type": "code",
   "execution_count": null,
   "metadata": {},
   "outputs": [],
   "source": [
    "\n",
    "for col in df.columns:\n",
    "    if len(df[col].unique()) < 100:\n",
    "        print(f\"----- Column '{col}' has {len(df[col].unique())} unique values. ------\")\n",
    "        print(df[col].value_counts(dropna=False))\n",
    "\n",
    "# print(df.columns[df.nunique() < 100])\n",
    "\n",
    "# df.columns[df.nunique() < 100].map(lambda col: print(f\"Column '{col}' has {df[col].nunique()} unique values.\"))"
   ]
  }
 ],
 "metadata": {
  "kernelspec": {
   "display_name": "scrap_BS",
   "language": "python",
   "name": "python3"
  },
  "language_info": {
   "codemirror_mode": {
    "name": "ipython",
    "version": 3
   },
   "file_extension": ".py",
   "mimetype": "text/x-python",
   "name": "python",
   "nbconvert_exporter": "python",
   "pygments_lexer": "ipython3",
   "version": "3.11.7"
  }
 },
 "nbformat": 4,
 "nbformat_minor": 2
}
